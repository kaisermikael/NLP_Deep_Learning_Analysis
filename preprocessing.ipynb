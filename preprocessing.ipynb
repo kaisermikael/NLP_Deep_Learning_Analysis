{
 "cells": [
  {
   "cell_type": "code",
   "execution_count": 1,
   "metadata": {},
   "outputs": [
    {
     "name": "stderr",
     "output_type": "stream",
     "text": [
      "[nltk_data] Downloading package stopwords to\n",
      "[nltk_data]     /home/kaisermikael/nltk_data...\n",
      "[nltk_data]   Package stopwords is already up-to-date!\n",
      "[nltk_data] Downloading package punkt to\n",
      "[nltk_data]     /home/kaisermikael/nltk_data...\n",
      "[nltk_data]   Package punkt is already up-to-date!\n"
     ]
    },
    {
     "data": {
      "text/plain": [
       "True"
      ]
     },
     "execution_count": 1,
     "metadata": {},
     "output_type": "execute_result"
    }
   ],
   "source": [
    "import pandas as pd\n",
    "import numpy as np\n",
    "import matplotlib.pyplot as plt\n",
    "import seaborn as sns\n",
    "import nltk\n",
    "\n",
    "nltk.download('stopwords')\n",
    "nltk.download('punkt')"
   ]
  },
  {
   "cell_type": "markdown",
   "metadata": {},
   "source": [
    "**Data Exploration**"
   ]
  },
  {
   "cell_type": "markdown",
   "metadata": {},
   "source": [
    "Need to change encoder to latin-1 due to CSV encoding differences from UTF-8 default."
   ]
  },
  {
   "cell_type": "code",
   "execution_count": 2,
   "metadata": {},
   "outputs": [
    {
     "data": {
      "text/html": [
       "<div>\n",
       "<style scoped>\n",
       "    .dataframe tbody tr th:only-of-type {\n",
       "        vertical-align: middle;\n",
       "    }\n",
       "\n",
       "    .dataframe tbody tr th {\n",
       "        vertical-align: top;\n",
       "    }\n",
       "\n",
       "    .dataframe thead th {\n",
       "        text-align: right;\n",
       "    }\n",
       "</style>\n",
       "<table border=\"1\" class=\"dataframe\">\n",
       "  <thead>\n",
       "    <tr style=\"text-align: right;\">\n",
       "      <th></th>\n",
       "      <th>response_id</th>\n",
       "      <th>class</th>\n",
       "      <th>response_text</th>\n",
       "      <th>Unnamed: 3</th>\n",
       "      <th>Unnamed: 4</th>\n",
       "      <th>Unnamed: 5</th>\n",
       "      <th>Unnamed: 6</th>\n",
       "      <th>Unnamed: 7</th>\n",
       "    </tr>\n",
       "  </thead>\n",
       "  <tbody>\n",
       "    <tr>\n",
       "      <th>0</th>\n",
       "      <td>response_1</td>\n",
       "      <td>not_flagged</td>\n",
       "      <td>I try and avoid this sort of conflict</td>\n",
       "      <td>NaN</td>\n",
       "      <td>NaN</td>\n",
       "      <td>NaN</td>\n",
       "      <td>NaN</td>\n",
       "      <td>NaN</td>\n",
       "    </tr>\n",
       "    <tr>\n",
       "      <th>1</th>\n",
       "      <td>response_2</td>\n",
       "      <td>flagged</td>\n",
       "      <td>Had a friend open up to me about his mental ad...</td>\n",
       "      <td>NaN</td>\n",
       "      <td>NaN</td>\n",
       "      <td>NaN</td>\n",
       "      <td>NaN</td>\n",
       "      <td>NaN</td>\n",
       "    </tr>\n",
       "    <tr>\n",
       "      <th>2</th>\n",
       "      <td>response_3</td>\n",
       "      <td>flagged</td>\n",
       "      <td>I saved a girl from suicide once. She was goin...</td>\n",
       "      <td>NaN</td>\n",
       "      <td>NaN</td>\n",
       "      <td>NaN</td>\n",
       "      <td>NaN</td>\n",
       "      <td>NaN</td>\n",
       "    </tr>\n",
       "    <tr>\n",
       "      <th>3</th>\n",
       "      <td>response_4</td>\n",
       "      <td>not_flagged</td>\n",
       "      <td>i cant think of one really...i think i may hav...</td>\n",
       "      <td>NaN</td>\n",
       "      <td>NaN</td>\n",
       "      <td>NaN</td>\n",
       "      <td>NaN</td>\n",
       "      <td>NaN</td>\n",
       "    </tr>\n",
       "    <tr>\n",
       "      <th>4</th>\n",
       "      <td>response_5</td>\n",
       "      <td>not_flagged</td>\n",
       "      <td>Only really one friend who doesn't fit into th...</td>\n",
       "      <td></td>\n",
       "      <td>NaN</td>\n",
       "      <td>NaN</td>\n",
       "      <td>NaN</td>\n",
       "      <td>NaN</td>\n",
       "    </tr>\n",
       "  </tbody>\n",
       "</table>\n",
       "</div>"
      ],
      "text/plain": [
       "  response_id        class                                      response_text  \\\n",
       "0  response_1  not_flagged              I try and avoid this sort of conflict   \n",
       "1  response_2      flagged  Had a friend open up to me about his mental ad...   \n",
       "2  response_3      flagged  I saved a girl from suicide once. She was goin...   \n",
       "3  response_4  not_flagged  i cant think of one really...i think i may hav...   \n",
       "4  response_5  not_flagged  Only really one friend who doesn't fit into th...   \n",
       "\n",
       "  Unnamed: 3  Unnamed: 4 Unnamed: 5  Unnamed: 6 Unnamed: 7  \n",
       "0        NaN         NaN        NaN         NaN        NaN  \n",
       "1        NaN         NaN        NaN         NaN        NaN  \n",
       "2        NaN         NaN        NaN         NaN        NaN  \n",
       "3        NaN         NaN        NaN         NaN        NaN  \n",
       "4                    NaN        NaN         NaN        NaN  "
      ]
     },
     "execution_count": 2,
     "metadata": {},
     "output_type": "execute_result"
    }
   ],
   "source": [
    "chatbot = pd.read_csv('Sheet_1.csv', encoding='latin-1')\n",
    "chatbot.head()"
   ]
  },
  {
   "cell_type": "code",
   "execution_count": 3,
   "metadata": {},
   "outputs": [
    {
     "data": {
      "text/html": [
       "<div>\n",
       "<style scoped>\n",
       "    .dataframe tbody tr th:only-of-type {\n",
       "        vertical-align: middle;\n",
       "    }\n",
       "\n",
       "    .dataframe tbody tr th {\n",
       "        vertical-align: top;\n",
       "    }\n",
       "\n",
       "    .dataframe thead th {\n",
       "        text-align: right;\n",
       "    }\n",
       "</style>\n",
       "<table border=\"1\" class=\"dataframe\">\n",
       "  <thead>\n",
       "    <tr style=\"text-align: right;\">\n",
       "      <th></th>\n",
       "      <th>resume_id</th>\n",
       "      <th>class</th>\n",
       "      <th>resume_text</th>\n",
       "    </tr>\n",
       "  </thead>\n",
       "  <tbody>\n",
       "    <tr>\n",
       "      <th>0</th>\n",
       "      <td>resume_1</td>\n",
       "      <td>not_flagged</td>\n",
       "      <td>\\rCustomer Service Supervisor/Tier - Isabella ...</td>\n",
       "    </tr>\n",
       "    <tr>\n",
       "      <th>1</th>\n",
       "      <td>resume_2</td>\n",
       "      <td>not_flagged</td>\n",
       "      <td>\\rEngineer / Scientist - IBM Microelectronics ...</td>\n",
       "    </tr>\n",
       "    <tr>\n",
       "      <th>2</th>\n",
       "      <td>resume_3</td>\n",
       "      <td>not_flagged</td>\n",
       "      <td>\\rLTS Software Engineer Computational Lithogra...</td>\n",
       "    </tr>\n",
       "    <tr>\n",
       "      <th>3</th>\n",
       "      <td>resume_4</td>\n",
       "      <td>not_flagged</td>\n",
       "      <td>TUTOR\\rWilliston VT - Email me on Indeed: ind...</td>\n",
       "    </tr>\n",
       "    <tr>\n",
       "      <th>4</th>\n",
       "      <td>resume_5</td>\n",
       "      <td>flagged</td>\n",
       "      <td>\\rIndependent Consultant - Self-employed\\rBurl...</td>\n",
       "    </tr>\n",
       "  </tbody>\n",
       "</table>\n",
       "</div>"
      ],
      "text/plain": [
       "  resume_id        class                                        resume_text\n",
       "0  resume_1  not_flagged  \\rCustomer Service Supervisor/Tier - Isabella ...\n",
       "1  resume_2  not_flagged  \\rEngineer / Scientist - IBM Microelectronics ...\n",
       "2  resume_3  not_flagged  \\rLTS Software Engineer Computational Lithogra...\n",
       "3  resume_4  not_flagged   TUTOR\\rWilliston VT - Email me on Indeed: ind...\n",
       "4  resume_5      flagged  \\rIndependent Consultant - Self-employed\\rBurl..."
      ]
     },
     "execution_count": 3,
     "metadata": {},
     "output_type": "execute_result"
    }
   ],
   "source": [
    "resume = pd.read_csv('Sheet_2.csv', encoding='latin-1')\n",
    "resume.head()"
   ]
  },
  {
   "cell_type": "markdown",
   "metadata": {},
   "source": [
    "Resume reading looks fine, but for the chatbot we need to remove the empty columns"
   ]
  },
  {
   "cell_type": "code",
   "execution_count": 4,
   "metadata": {},
   "outputs": [
    {
     "data": {
      "text/html": [
       "<div>\n",
       "<style scoped>\n",
       "    .dataframe tbody tr th:only-of-type {\n",
       "        vertical-align: middle;\n",
       "    }\n",
       "\n",
       "    .dataframe tbody tr th {\n",
       "        vertical-align: top;\n",
       "    }\n",
       "\n",
       "    .dataframe thead th {\n",
       "        text-align: right;\n",
       "    }\n",
       "</style>\n",
       "<table border=\"1\" class=\"dataframe\">\n",
       "  <thead>\n",
       "    <tr style=\"text-align: right;\">\n",
       "      <th></th>\n",
       "      <th>response_id</th>\n",
       "      <th>class</th>\n",
       "      <th>response_text</th>\n",
       "    </tr>\n",
       "  </thead>\n",
       "  <tbody>\n",
       "    <tr>\n",
       "      <th>0</th>\n",
       "      <td>response_1</td>\n",
       "      <td>not_flagged</td>\n",
       "      <td>I try and avoid this sort of conflict</td>\n",
       "    </tr>\n",
       "    <tr>\n",
       "      <th>1</th>\n",
       "      <td>response_2</td>\n",
       "      <td>flagged</td>\n",
       "      <td>Had a friend open up to me about his mental ad...</td>\n",
       "    </tr>\n",
       "    <tr>\n",
       "      <th>2</th>\n",
       "      <td>response_3</td>\n",
       "      <td>flagged</td>\n",
       "      <td>I saved a girl from suicide once. She was goin...</td>\n",
       "    </tr>\n",
       "    <tr>\n",
       "      <th>3</th>\n",
       "      <td>response_4</td>\n",
       "      <td>not_flagged</td>\n",
       "      <td>i cant think of one really...i think i may hav...</td>\n",
       "    </tr>\n",
       "    <tr>\n",
       "      <th>4</th>\n",
       "      <td>response_5</td>\n",
       "      <td>not_flagged</td>\n",
       "      <td>Only really one friend who doesn't fit into th...</td>\n",
       "    </tr>\n",
       "  </tbody>\n",
       "</table>\n",
       "</div>"
      ],
      "text/plain": [
       "  response_id        class                                      response_text\n",
       "0  response_1  not_flagged              I try and avoid this sort of conflict\n",
       "1  response_2      flagged  Had a friend open up to me about his mental ad...\n",
       "2  response_3      flagged  I saved a girl from suicide once. She was goin...\n",
       "3  response_4  not_flagged  i cant think of one really...i think i may hav...\n",
       "4  response_5  not_flagged  Only really one friend who doesn't fit into th..."
      ]
     },
     "execution_count": 4,
     "metadata": {},
     "output_type": "execute_result"
    }
   ],
   "source": [
    "chatbot = chatbot[['response_id','class','response_text']]\n",
    "chatbot.head()"
   ]
  },
  {
   "cell_type": "markdown",
   "metadata": {},
   "source": [
    "Now, both dataframes are the same column types and we can proceed with cleaning up our datavalues. First we remove all NaN values and then identify any data imbalance."
   ]
  },
  {
   "cell_type": "code",
   "execution_count": 16,
   "metadata": {},
   "outputs": [
    {
     "name": "stdout",
     "output_type": "stream",
     "text": [
      "Chatbot Class Counts: 0    55\n",
      "1    25\n",
      "Name: class, dtype: int64\n"
     ]
    },
    {
     "data": {
      "image/png": "[encoded data removed]",
      "text/plain": [
       "<Figure size 640x480 with 1 Axes>"
      ]
     },
     "metadata": {},
     "output_type": "display_data"
    }
   ],
   "source": [
    "chatbot.dropna(inplace=True)\n",
    "class_histo = sns.countplot(chatbot, x='class').set_title('Chatbot Class Counts')\n",
    "print(\"Chatbot Class Counts:\",chatbot['class'].value_counts())"
   ]
  },
  {
   "cell_type": "code",
   "execution_count": 17,
   "metadata": {},
   "outputs": [
    {
     "name": "stdout",
     "output_type": "stream",
     "text": [
      "Resume Class Counts: 0    92\n",
      "1    33\n",
      "Name: class, dtype: int64\n"
     ]
    },
    {
     "data": {
      "image/png": "[encoded data removed]",
      "text/plain": [
       "<Figure size 640x480 with 1 Axes>"
      ]
     },
     "metadata": {},
     "output_type": "display_data"
    }
   ],
   "source": [
    "resume.dropna(inplace=True)\n",
    "resume_histo = sns.countplot(resume, x='class').set_title('Resume Class Counts')\n",
    "print(\"Resume Class Counts:\",resume['class'].value_counts())"
   ]
  },
  {
   "cell_type": "markdown",
   "metadata": {},
   "source": [
    "**Tokenization and Cleaning**"
   ]
  },
  {
   "cell_type": "markdown",
   "metadata": {},
   "source": [
    "Now, we tokenize and then clean up our text to improve the NLP results."
   ]
  },
  {
   "cell_type": "code",
   "execution_count": 7,
   "metadata": {},
   "outputs": [
    {
     "name": "stdout",
     "output_type": "stream",
     "text": [
      "Chatbot Tokenized Text:\n",
      "  response_id        class                                      response_text  \\\n",
      "0  response_1  not_flagged              i try and avoid this sort of conflict   \n",
      "1  response_2      flagged  had a friend open up to me about his mental ad...   \n",
      "2  response_3      flagged  i saved a girl from suicide once. she was goin...   \n",
      "3  response_4  not_flagged  i cant think of one really...i think i may hav...   \n",
      "4  response_5  not_flagged  only really one friend who doesn't fit into th...   \n",
      "\n",
      "                                          text_token  \n",
      "0     [i, try, and, avoid, this, sort, of, conflict]  \n",
      "1  [had, a, friend, open, up, to, me, about, his,...  \n",
      "2  [i, saved, a, girl, from, suicide, once, she, ...  \n",
      "3  [i, cant, think, of, one, really, i, think, i,...  \n",
      "4  [only, really, one, friend, who, doesn, t, fit...  \n",
      "\n",
      "Resume Tokenized Text:\n",
      "  resume_id        class                                        resume_text  \\\n",
      "0  resume_1  not_flagged  \\rcustomer service supervisor/tier - isabella ...   \n",
      "1  resume_2  not_flagged  \\rengineer / scientist - ibm microelectronics ...   \n",
      "2  resume_3  not_flagged  \\rlts software engineer computational lithogra...   \n",
      "3  resume_4  not_flagged   tutor\\rwilliston vt - email me on indeed: ind...   \n",
      "4  resume_5      flagged  \\rindependent consultant - self-employed\\rburl...   \n",
      "\n",
      "                                          text_token  \n",
      "0  [customer, service, supervisor, tier, isabella...  \n",
      "1  [engineer, scientist, ibm, microelectronics, d...  \n",
      "2  [lts, software, engineer, computational, litho...  \n",
      "3  [tutor, williston, vt, email, me, on, indeed, ...  \n",
      "4  [independent, consultant, self, employed, burl...  \n"
     ]
    }
   ],
   "source": [
    "# Lowercase all text\n",
    "chatbot['response_text'] = chatbot['response_text'].astype(str).str.lower()\n",
    "resume['resume_text'] = resume['resume_text'].astype(str).str.lower()\n",
    "\n",
    "# Tokenize the text\n",
    "from nltk.tokenize import word_tokenize, RegexpTokenizer\n",
    "\n",
    "regexp = RegexpTokenizer('\\w+')\n",
    "\n",
    "chatbot['text_token'] = chatbot['response_text'].apply(regexp.tokenize)\n",
    "resume['text_token'] = resume['resume_text'].apply(regexp.tokenize)\n",
    "\n",
    "print(\"Chatbot Tokenized Text:\")\n",
    "print(chatbot.head())\n",
    "print()\n",
    "print(\"Resume Tokenized Text:\")\n",
    "print(resume.head())"
   ]
  },
  {
   "cell_type": "markdown",
   "metadata": {},
   "source": [
    "Now, punctuation has been removed and we can now remove misspelled words (words due the tokenization or from user misspelling). We can also now remove very uncommon words that won't be applicable (like names) as well as the stopwords that are not indicative of sentiment."
   ]
  },
  {
   "cell_type": "code",
   "execution_count": 8,
   "metadata": {},
   "outputs": [],
   "source": [
    "from nltk.corpus import stopwords\n",
    "\n",
    "stopwords = nltk.corpus.stopwords.words('english')\n",
    "\n",
    "# Add custom stopwords after performing more data exploration\n",
    "custom_stopwords = ['']\n",
    "stopwords.extend(custom_stopwords)"
   ]
  },
  {
   "cell_type": "code",
   "execution_count": 9,
   "metadata": {},
   "outputs": [],
   "source": [
    "chatbot['text_token'] = chatbot['text_token'].apply(lambda x: [word for word in x if word not in stopwords])\n",
    "resume['text_token'] = resume['text_token'].apply(lambda x: [word for word in x if word not in stopwords])"
   ]
  },
  {
   "cell_type": "code",
   "execution_count": 10,
   "metadata": {},
   "outputs": [],
   "source": [
    "chatbot['response_text'] = chatbot['text_token'].apply(lambda x: ' '.join([item for item in x if len(item)>2]))\n",
    "resume['resume_text'] = resume['text_token'].apply(lambda x: ' '.join([item for item in x if len(item)>2]))\n",
    "\n",
    "chatbot_tokens = ' '.join([token for token in chatbot['response_text']])\n",
    "resume_tokens = ' '.join([token for token in resume['resume_text']])\n",
    "\n",
    "chatbot_tokenized_words = word_tokenize(chatbot_tokens)\n",
    "resume_tokenized_words = word_tokenize(resume_tokens)"
   ]
  },
  {
   "cell_type": "markdown",
   "metadata": {},
   "source": [
    "Now that both datasets are tokenized and have all stopwords removed, we can consider using the NLTK FreqDist to remove words that only appear once."
   ]
  },
  {
   "cell_type": "code",
   "execution_count": 11,
   "metadata": {},
   "outputs": [],
   "source": [
    "from nltk.probability import FreqDist\n",
    "\n",
    "chatbot_freq = FreqDist(chatbot_tokenized_words)\n",
    "resume_freq = FreqDist(resume_tokenized_words)"
   ]
  },
  {
   "cell_type": "code",
   "execution_count": 12,
   "metadata": {},
   "outputs": [
    {
     "name": "stdout",
     "output_type": "stream",
     "text": [
      "  response_id        class                                      response_text  \\\n",
      "0  response_1  not_flagged                            try avoid sort conflict   \n",
      "1  response_2      flagged  friend open mental addiction weed taking life ...   \n",
      "2  response_3      flagged  saved girl suicide going swallow bunch pills t...   \n",
      "3  response_4  not_flagged         cant think one really think may indirectly   \n",
      "4  response_5  not_flagged  really one friend fit categories therapist cal...   \n",
      "\n",
      "                                          text_token  \\\n",
      "0                       [try, avoid, sort, conflict]   \n",
      "1  [friend, open, mental, addiction, weed, taking...   \n",
      "2  [saved, girl, suicide, going, swallow, bunch, ...   \n",
      "3  [cant, think, one, really, think, may, indirec...   \n",
      "4  [really, one, friend, fit, categories, therapi...   \n",
      "\n",
      "                                   text_string_fdist  \n",
      "0                                                try  \n",
      "1  friend open mental addiction life making depre...  \n",
      "2                 girl suicide going talked calm way  \n",
      "3                    cant think one really think may  \n",
      "4  really one friend calls pretty much calls time...  \n",
      "\n",
      "  resume_id        class                                        resume_text  \\\n",
      "0  resume_1  not_flagged  customer service supervisor tier isabella cata...   \n",
      "1  resume_2  not_flagged  engineer scientist ibm microelectronics divisi...   \n",
      "2  resume_3  not_flagged  lts software engineer computational lithograph...   \n",
      "3  resume_4  not_flagged  tutor williston email indeed indeed com alec s...   \n",
      "4  resume_5      flagged  independent consultant self employed burlingto...   \n",
      "\n",
      "                                          text_token  \\\n",
      "0  [customer, service, supervisor, tier, isabella...   \n",
      "1  [engineer, scientist, ibm, microelectronics, d...   \n",
      "2  [lts, software, engineer, computational, litho...   \n",
      "3  [tutor, williston, vt, email, indeed, indeed, ...   \n",
      "4  [independent, consultant, self, employed, burl...   \n",
      "\n",
      "                                   text_string_fdist  \n",
      "0  customer service supervisor tier isabella cata...  \n",
      "1  engineer scientist ibm microelectronics divisi...  \n",
      "2  lts software engineer computational lithograph...  \n",
      "3  tutor williston email indeed indeed com work e...  \n",
      "4  independent consultant self employed burlingto...  \n"
     ]
    }
   ],
   "source": [
    "chatbot['text_string_fdist'] = chatbot['text_token'].apply(lambda x: ' '.join([item for item in x if chatbot_freq[item] > 1]))\n",
    "resume['text_string_fdist'] = resume['text_token'].apply(lambda x: ' '.join([item for item in x if resume_freq[item] > 1]))\n",
    "\n",
    "print(chatbot.head())\n",
    "print()\n",
    "print(resume.head())"
   ]
  },
  {
   "cell_type": "markdown",
   "metadata": {},
   "source": [
    "Because this dataset is not exceptionally large, we can see that using this FreqDist method actually ends up removing a lot of words that would be useful for our analysis (for example, in the very first response, we would lose words like \"avoid\" and \"conflict\", which may or may not be useful). As such, we're going to not use this method. But it could be useful in a larger dataset in the future, so is worth noting."
   ]
  },
  {
   "cell_type": "code",
   "execution_count": 13,
   "metadata": {},
   "outputs": [],
   "source": [
    "# If we ever were to use the text_string_fdist column, we would comment these lines out.\n",
    "chatbot.drop(columns=['text_string_fdist'], inplace=True)\n",
    "resume.drop(columns=['text_string_fdist'], inplace=True)"
   ]
  },
  {
   "cell_type": "markdown",
   "metadata": {},
   "source": [
    "Finally, we replace \"not_flagged\" and \"flagged\" with 0 and 1 to make NLP easier."
   ]
  },
  {
   "cell_type": "code",
   "execution_count": 14,
   "metadata": {},
   "outputs": [],
   "source": [
    "chatbot['class'].replace('flagged','1',inplace=True)\n",
    "chatbot['class'].replace('not_flagged','0',inplace=True)\n",
    "\n",
    "resume['class'].replace('flagged','1',inplace=True)\n",
    "resume['class'].replace('not_flagged','0',inplace=True)"
   ]
  },
  {
   "cell_type": "markdown",
   "metadata": {},
   "source": [
    "With this, we conclude our preprocessing and are now ready for the actual deep learning analysis. We finish by exporting our results to new CSV files for future use so we don't have to always run this again."
   ]
  },
  {
   "cell_type": "code",
   "execution_count": 15,
   "metadata": {},
   "outputs": [],
   "source": [
    "chatbot.to_csv('chatbot_cleaned.csv', index=False)\n",
    "resume.to_csv('resume_cleaned.csv', index=False)"
   ]
  }
 ],
 "metadata": {
  "kernelspec": {
   "display_name": "Python 3",
   "language": "python",
   "name": "python3"
  },
  "language_info": {
   "codemirror_mode": {
    "name": "ipython",
    "version": 3
   },
   "file_extension": ".py",
   "mimetype": "text/x-python",
   "name": "python",
   "nbconvert_exporter": "python",
   "pygments_lexer": "ipython3",
   "version": "3.8.10"
  }
 },
 "nbformat": 4,
 "nbformat_minor": 2
}
