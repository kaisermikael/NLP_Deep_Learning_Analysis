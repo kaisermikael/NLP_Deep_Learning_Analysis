{
 "cells": [
  {
   "cell_type": "markdown",
   "metadata": {},
   "source": [
    "**Data Loading**"
   ]
  },
  {
   "cell_type": "code",
   "execution_count": 1,
   "metadata": {},
   "outputs": [],
   "source": [
    "import pandas as pd\n",
    "import numpy as np\n",
    "import matplotlib.pyplot as plt\n",
    "import seaborn as sns"
   ]
  },
  {
   "cell_type": "code",
   "execution_count": 2,
   "metadata": {},
   "outputs": [
    {
     "name": "stdout",
     "output_type": "stream",
     "text": [
      "(80, 4)\n"
     ]
    },
    {
     "data": {
      "text/html": [
       "<div>\n",
       "<style scoped>\n",
       "    .dataframe tbody tr th:only-of-type {\n",
       "        vertical-align: middle;\n",
       "    }\n",
       "\n",
       "    .dataframe tbody tr th {\n",
       "        vertical-align: top;\n",
       "    }\n",
       "\n",
       "    .dataframe thead th {\n",
       "        text-align: right;\n",
       "    }\n",
       "</style>\n",
       "<table border=\"1\" class=\"dataframe\">\n",
       "  <thead>\n",
       "    <tr style=\"text-align: right;\">\n",
       "      <th></th>\n",
       "      <th>response_id</th>\n",
       "      <th>class</th>\n",
       "      <th>response_text</th>\n",
       "      <th>text_token</th>\n",
       "    </tr>\n",
       "  </thead>\n",
       "  <tbody>\n",
       "    <tr>\n",
       "      <th>0</th>\n",
       "      <td>response_1</td>\n",
       "      <td>0</td>\n",
       "      <td>try avoid sort conflict</td>\n",
       "      <td>['try', 'avoid', 'sort', 'conflict']</td>\n",
       "    </tr>\n",
       "    <tr>\n",
       "      <th>1</th>\n",
       "      <td>response_2</td>\n",
       "      <td>1</td>\n",
       "      <td>friend open mental addiction weed taking life ...</td>\n",
       "      <td>['friend', 'open', 'mental', 'addiction', 'wee...</td>\n",
       "    </tr>\n",
       "    <tr>\n",
       "      <th>2</th>\n",
       "      <td>response_3</td>\n",
       "      <td>1</td>\n",
       "      <td>saved girl suicide going swallow bunch pills t...</td>\n",
       "      <td>['saved', 'girl', 'suicide', 'going', 'swallow...</td>\n",
       "    </tr>\n",
       "    <tr>\n",
       "      <th>3</th>\n",
       "      <td>response_4</td>\n",
       "      <td>0</td>\n",
       "      <td>cant think one really think may indirectly</td>\n",
       "      <td>['cant', 'think', 'one', 'really', 'think', 'm...</td>\n",
       "    </tr>\n",
       "    <tr>\n",
       "      <th>4</th>\n",
       "      <td>response_5</td>\n",
       "      <td>0</td>\n",
       "      <td>really one friend fit categories therapist cal...</td>\n",
       "      <td>['really', 'one', 'friend', 'fit', 'categories...</td>\n",
       "    </tr>\n",
       "  </tbody>\n",
       "</table>\n",
       "</div>"
      ],
      "text/plain": [
       "  response_id  class                                      response_text  \\\n",
       "0  response_1      0                            try avoid sort conflict   \n",
       "1  response_2      1  friend open mental addiction weed taking life ...   \n",
       "2  response_3      1  saved girl suicide going swallow bunch pills t...   \n",
       "3  response_4      0         cant think one really think may indirectly   \n",
       "4  response_5      0  really one friend fit categories therapist cal...   \n",
       "\n",
       "                                          text_token  \n",
       "0               ['try', 'avoid', 'sort', 'conflict']  \n",
       "1  ['friend', 'open', 'mental', 'addiction', 'wee...  \n",
       "2  ['saved', 'girl', 'suicide', 'going', 'swallow...  \n",
       "3  ['cant', 'think', 'one', 'really', 'think', 'm...  \n",
       "4  ['really', 'one', 'friend', 'fit', 'categories...  "
      ]
     },
     "execution_count": 2,
     "metadata": {},
     "output_type": "execute_result"
    }
   ],
   "source": [
    "chatbot = pd.read_csv('chatbot_cleaned.csv')\n",
    "print(chatbot.shape)\n",
    "chatbot.head()"
   ]
  },
  {
   "cell_type": "code",
   "execution_count": 3,
   "metadata": {},
   "outputs": [
    {
     "name": "stdout",
     "output_type": "stream",
     "text": [
      "(125, 4)\n"
     ]
    },
    {
     "data": {
      "text/html": [
       "<div>\n",
       "<style scoped>\n",
       "    .dataframe tbody tr th:only-of-type {\n",
       "        vertical-align: middle;\n",
       "    }\n",
       "\n",
       "    .dataframe tbody tr th {\n",
       "        vertical-align: top;\n",
       "    }\n",
       "\n",
       "    .dataframe thead th {\n",
       "        text-align: right;\n",
       "    }\n",
       "</style>\n",
       "<table border=\"1\" class=\"dataframe\">\n",
       "  <thead>\n",
       "    <tr style=\"text-align: right;\">\n",
       "      <th></th>\n",
       "      <th>resume_id</th>\n",
       "      <th>class</th>\n",
       "      <th>resume_text</th>\n",
       "      <th>text_token</th>\n",
       "    </tr>\n",
       "  </thead>\n",
       "  <tbody>\n",
       "    <tr>\n",
       "      <th>0</th>\n",
       "      <td>resume_1</td>\n",
       "      <td>0</td>\n",
       "      <td>customer service supervisor tier isabella cata...</td>\n",
       "      <td>['customer', 'service', 'supervisor', 'tier', ...</td>\n",
       "    </tr>\n",
       "    <tr>\n",
       "      <th>1</th>\n",
       "      <td>resume_2</td>\n",
       "      <td>0</td>\n",
       "      <td>engineer scientist ibm microelectronics divisi...</td>\n",
       "      <td>['engineer', 'scientist', 'ibm', 'microelectro...</td>\n",
       "    </tr>\n",
       "    <tr>\n",
       "      <th>2</th>\n",
       "      <td>resume_3</td>\n",
       "      <td>0</td>\n",
       "      <td>lts software engineer computational lithograph...</td>\n",
       "      <td>['lts', 'software', 'engineer', 'computational...</td>\n",
       "    </tr>\n",
       "    <tr>\n",
       "      <th>3</th>\n",
       "      <td>resume_4</td>\n",
       "      <td>0</td>\n",
       "      <td>tutor williston email indeed indeed com alec s...</td>\n",
       "      <td>['tutor', 'williston', 'vt', 'email', 'indeed'...</td>\n",
       "    </tr>\n",
       "    <tr>\n",
       "      <th>4</th>\n",
       "      <td>resume_5</td>\n",
       "      <td>1</td>\n",
       "      <td>independent consultant self employed burlingto...</td>\n",
       "      <td>['independent', 'consultant', 'self', 'employe...</td>\n",
       "    </tr>\n",
       "  </tbody>\n",
       "</table>\n",
       "</div>"
      ],
      "text/plain": [
       "  resume_id  class                                        resume_text  \\\n",
       "0  resume_1      0  customer service supervisor tier isabella cata...   \n",
       "1  resume_2      0  engineer scientist ibm microelectronics divisi...   \n",
       "2  resume_3      0  lts software engineer computational lithograph...   \n",
       "3  resume_4      0  tutor williston email indeed indeed com alec s...   \n",
       "4  resume_5      1  independent consultant self employed burlingto...   \n",
       "\n",
       "                                          text_token  \n",
       "0  ['customer', 'service', 'supervisor', 'tier', ...  \n",
       "1  ['engineer', 'scientist', 'ibm', 'microelectro...  \n",
       "2  ['lts', 'software', 'engineer', 'computational...  \n",
       "3  ['tutor', 'williston', 'vt', 'email', 'indeed'...  \n",
       "4  ['independent', 'consultant', 'self', 'employe...  "
      ]
     },
     "execution_count": 3,
     "metadata": {},
     "output_type": "execute_result"
    }
   ],
   "source": [
    "resume = pd.read_csv('resume_cleaned.csv')\n",
    "print(resume.shape)\n",
    "resume.head()"
   ]
  },
  {
   "cell_type": "markdown",
   "metadata": {},
   "source": [
    "**Encoding**"
   ]
  },
  {
   "cell_type": "code",
   "execution_count": 4,
   "metadata": {},
   "outputs": [],
   "source": [
    "from sklearn.feature_extraction.text import TfidfVectorizer, CountVectorizer\n",
    "from sklearn import preprocessing\n",
    "\n",
    "le = preprocessing.LabelEncoder()\n",
    "ohe = preprocessing.OneHotEncoder()\n",
    "tfidf = TfidfVectorizer()\n",
    "countvec = CountVectorizer()"
   ]
  },
  {
   "cell_type": "code",
   "execution_count": 5,
   "metadata": {},
   "outputs": [],
   "source": [
    "chatbot_X = tfidf.fit_transform(chatbot['response_text'])\n",
    "chatbot_y = chatbot['class']\n",
    "\n",
    "resume_X = tfidf.fit_transform(resume['resume_text'])\n",
    "resume_y = resume['class']"
   ]
  },
  {
   "cell_type": "markdown",
   "metadata": {},
   "source": [
    "**Train/Test Splitting**"
   ]
  },
  {
   "cell_type": "code",
   "execution_count": 6,
   "metadata": {},
   "outputs": [],
   "source": [
    "from sklearn.model_selection import train_test_split\n",
    "\n",
    "chatbot_X_train, chatbot_X_test, chatbot_y_train, chatbot_y_test = train_test_split(chatbot_X, chatbot_y, test_size=0.2, random_state=42)\n",
    "resume_X_train, resume_X_test, resume_y_train, resume_y_test = train_test_split(resume_X, resume_y, test_size=0.2, random_state=42)\n",
    "\n",
    "chatbot_X_train = chatbot_X_train.toarray()\n",
    "chatbot_X_test = chatbot_X_test.toarray()\n",
    "resume_X_train = resume_X_train.toarray()\n",
    "resume_X_test = resume_X_test.toarray()\n"
   ]
  },
  {
   "cell_type": "code",
   "execution_count": 7,
   "metadata": {},
   "outputs": [
    {
     "name": "stderr",
     "output_type": "stream",
     "text": [
      "2024-04-21 06:21:00.840655: I tensorflow/tsl/cuda/cudart_stub.cc:28] Could not find cuda drivers on your machine, GPU will not be used.\n",
      "2024-04-21 06:21:00.865007: I tensorflow/tsl/cuda/cudart_stub.cc:28] Could not find cuda drivers on your machine, GPU will not be used.\n",
      "2024-04-21 06:21:00.865584: I tensorflow/core/platform/cpu_feature_guard.cc:182] This TensorFlow binary is optimized to use available CPU instructions in performance-critical operations.\n",
      "To enable the following instructions: AVX2 FMA, in other operations, rebuild TensorFlow with the appropriate compiler flags.\n",
      "2024-04-21 06:21:01.428826: W tensorflow/compiler/tf2tensorrt/utils/py_utils.cc:38] TF-TRT Warning: Could not find TensorRT\n"
     ]
    }
   ],
   "source": [
    "import tensorflow as tf\n",
    "import keras\n",
    "from keras.datasets import imdb\n",
    "from keras.preprocessing import sequence\n",
    "from keras.models import Sequential\n",
    "from keras.layers import LSTM, GRU, Dense, SimpleRNN, Embedding"
   ]
  },
  {
   "cell_type": "markdown",
   "metadata": {},
   "source": [
    "**Modeling**"
   ]
  },
  {
   "cell_type": "markdown",
   "metadata": {},
   "source": [
    "*RNN*"
   ]
  },
  {
   "cell_type": "markdown",
   "metadata": {},
   "source": [
    "Simple RNN Model (No Dropout)"
   ]
  },
  {
   "cell_type": "code",
   "execution_count": 8,
   "metadata": {},
   "outputs": [
    {
     "name": "stdout",
     "output_type": "stream",
     "text": [
      "Model: \"sequential\"\n",
      "_________________________________________________________________\n",
      " Layer (type)                Output Shape              Param #   \n",
      "=================================================================\n",
      " embedding (Embedding)       (None, None, 32)          32000     \n",
      "                                                                 \n",
      " simple_rnn (SimpleRNN)      (None, 100)               13300     \n",
      "                                                                 \n",
      " dense (Dense)               (None, 1)                 101       \n",
      "                                                                 \n",
      "=================================================================\n",
      "Total params: 45401 (177.35 KB)\n",
      "Trainable params: 45401 (177.35 KB)\n",
      "Non-trainable params: 0 (0.00 Byte)\n",
      "_________________________________________________________________\n"
     ]
    },
    {
     "name": "stderr",
     "output_type": "stream",
     "text": [
      "2024-04-21 06:21:01.878622: I tensorflow/compiler/xla/stream_executor/cuda/cuda_gpu_executor.cc:981] could not open file to read NUMA node: /sys/bus/pci/devices/0000:08:00.0/numa_node\n",
      "Your kernel may have been built without NUMA support.\n",
      "2024-04-21 06:21:01.878897: W tensorflow/core/common_runtime/gpu/gpu_device.cc:1960] Cannot dlopen some GPU libraries. Please make sure the missing libraries mentioned above are installed properly if you would like to use GPU. Follow the guide at https://www.tensorflow.org/install/gpu for how to download and setup the required libraries for your platform.\n",
      "Skipping registering GPU devices...\n"
     ]
    }
   ],
   "source": [
    "simple_rnn_model = Sequential()\n",
    "simple_rnn_model.add(Embedding(1000, 32))\n",
    "simple_rnn_model.add(SimpleRNN(100))\n",
    "simple_rnn_model.add(Dense(1, activation='sigmoid'))\n",
    "\n",
    "simple_rnn_model.compile(optimizer='adam', loss='binary_crossentropy', metrics=['accuracy'])\n",
    "\n",
    "simple_rnn_model.summary()"
   ]
  },
  {
   "cell_type": "code",
   "execution_count": 9,
   "metadata": {},
   "outputs": [
    {
     "name": "stdout",
     "output_type": "stream",
     "text": [
      "Chatbot Simple RNN Accuracy Results:\n",
      "Epoch 1/5\n"
     ]
    },
    {
     "name": "stdout",
     "output_type": "stream",
     "text": [
      "2/2 [==============================] - 1s 201ms/step - loss: 0.6651 - accuracy: 0.6406 - val_loss: 0.4421 - val_accuracy: 0.8750\n",
      "Epoch 2/5\n",
      "2/2 [==============================] - 0s 64ms/step - loss: 0.6645 - accuracy: 0.6406 - val_loss: 0.5223 - val_accuracy: 0.8750\n",
      "Epoch 3/5\n",
      "2/2 [==============================] - 0s 66ms/step - loss: 0.6590 - accuracy: 0.6406 - val_loss: 0.5840 - val_accuracy: 0.8750\n",
      "Epoch 4/5\n",
      "2/2 [==============================] - 0s 74ms/step - loss: 0.6606 - accuracy: 0.6406 - val_loss: 0.5326 - val_accuracy: 0.8750\n",
      "Epoch 5/5\n",
      "2/2 [==============================] - 0s 65ms/step - loss: 0.6565 - accuracy: 0.6406 - val_loss: 0.4987 - val_accuracy: 0.8750\n"
     ]
    },
    {
     "data": {
      "text/plain": [
       "<keras.src.callbacks.History at 0x7f91d84aee50>"
      ]
     },
     "execution_count": 9,
     "metadata": {},
     "output_type": "execute_result"
    }
   ],
   "source": [
    "print(\"Chatbot Simple RNN Accuracy Results:\")\n",
    "simple_rnn_model.fit(chatbot_X_train, chatbot_y_train, epochs=5, batch_size=32, validation_data=(chatbot_X_test, chatbot_y_test))"
   ]
  },
  {
   "cell_type": "code",
   "execution_count": 10,
   "metadata": {},
   "outputs": [
    {
     "name": "stdout",
     "output_type": "stream",
     "text": [
      "Resume Simple RNN Accuracy Results:\n",
      "Epoch 1/5\n",
      "4/4 [==============================] - 18s 4s/step - loss: 0.5560 - accuracy: 0.7700 - val_loss: 0.7613 - val_accuracy: 0.6000\n",
      "Epoch 2/5\n",
      "4/4 [==============================] - 16s 4s/step - loss: 0.5413 - accuracy: 0.7700 - val_loss: 0.8272 - val_accuracy: 0.6000\n",
      "Epoch 3/5\n",
      "4/4 [==============================] - 16s 4s/step - loss: 0.5576 - accuracy: 0.7700 - val_loss: 0.8092 - val_accuracy: 0.6000\n",
      "Epoch 4/5\n",
      "4/4 [==============================] - 16s 4s/step - loss: 0.5352 - accuracy: 0.7700 - val_loss: 0.7077 - val_accuracy: 0.6000\n",
      "Epoch 5/5\n",
      "4/4 [==============================] - 16s 4s/step - loss: 0.5645 - accuracy: 0.7700 - val_loss: 0.6754 - val_accuracy: 0.6000\n"
     ]
    },
    {
     "data": {
      "text/plain": [
       "<keras.src.callbacks.History at 0x7f91c038f730>"
      ]
     },
     "execution_count": 10,
     "metadata": {},
     "output_type": "execute_result"
    }
   ],
   "source": [
    "print(\"Resume Simple RNN Accuracy Results:\")\n",
    "simple_rnn_model.fit(resume_X_train, resume_y_train, epochs=5, batch_size=32, validation_data=(resume_X_test, resume_y_test))"
   ]
  },
  {
   "cell_type": "markdown",
   "metadata": {},
   "source": [
    "RNN with Dropout"
   ]
  },
  {
   "cell_type": "code",
   "execution_count": 11,
   "metadata": {},
   "outputs": [
    {
     "name": "stdout",
     "output_type": "stream",
     "text": [
      "Model: \"sequential_1\"\n",
      "_________________________________________________________________\n",
      " Layer (type)                Output Shape              Param #   \n",
      "=================================================================\n",
      " embedding_1 (Embedding)     (None, None, 32)          32000     \n",
      "                                                                 \n",
      " simple_rnn_1 (SimpleRNN)    (None, 100)               13300     \n",
      "                                                                 \n",
      " dense_1 (Dense)             (None, 1)                 101       \n",
      "                                                                 \n",
      "=================================================================\n",
      "Total params: 45401 (177.35 KB)\n",
      "Trainable params: 45401 (177.35 KB)\n",
      "Non-trainable params: 0 (0.00 Byte)\n",
      "_________________________________________________________________\n"
     ]
    }
   ],
   "source": [
    "dropout_rnn_model = Sequential()\n",
    "dropout_rnn_model.add(Embedding(1000, 32))\n",
    "dropout_rnn_model.add(SimpleRNN(100, dropout=0.2, recurrent_dropout=0.2))\n",
    "dropout_rnn_model.add(Dense(1, activation='sigmoid'))\n",
    "\n",
    "dropout_rnn_model.compile(optimizer='adam', loss='binary_crossentropy', metrics=['accuracy'])\n",
    "\n",
    "dropout_rnn_model.summary()"
   ]
  },
  {
   "cell_type": "code",
   "execution_count": 12,
   "metadata": {},
   "outputs": [
    {
     "name": "stdout",
     "output_type": "stream",
     "text": [
      "Chatbot Dropout RNN Accuracy Results:\n",
      "Epoch 1/5\n"
     ]
    },
    {
     "name": "stdout",
     "output_type": "stream",
     "text": [
      "2/2 [==============================] - 1s 159ms/step - loss: 0.6268 - accuracy: 0.6406 - val_loss: 0.7732 - val_accuracy: 0.1250\n",
      "Epoch 2/5\n",
      "2/2 [==============================] - 0s 62ms/step - loss: 0.7151 - accuracy: 0.5312 - val_loss: 0.8168 - val_accuracy: 0.1250\n",
      "Epoch 3/5\n",
      "2/2 [==============================] - 0s 61ms/step - loss: 0.7151 - accuracy: 0.5781 - val_loss: 0.8213 - val_accuracy: 0.1250\n",
      "Epoch 4/5\n",
      "2/2 [==============================] - 0s 62ms/step - loss: 0.7158 - accuracy: 0.5156 - val_loss: 0.8146 - val_accuracy: 0.1250\n",
      "Epoch 5/5\n",
      "2/2 [==============================] - 0s 64ms/step - loss: 0.7099 - accuracy: 0.5156 - val_loss: 0.7950 - val_accuracy: 0.1250\n"
     ]
    },
    {
     "data": {
      "text/plain": [
       "<keras.src.callbacks.History at 0x7f91c2ee8c40>"
      ]
     },
     "execution_count": 12,
     "metadata": {},
     "output_type": "execute_result"
    }
   ],
   "source": [
    "print(\"Chatbot Dropout RNN Accuracy Results:\")\n",
    "dropout_rnn_model.fit(chatbot_X_train, chatbot_y_train, epochs=5, batch_size=32, validation_data=(chatbot_X_test, chatbot_y_test))"
   ]
  },
  {
   "cell_type": "code",
   "execution_count": 13,
   "metadata": {},
   "outputs": [
    {
     "name": "stdout",
     "output_type": "stream",
     "text": [
      "Resume Dropout RNN Accuracy Results:\n"
     ]
    },
    {
     "name": "stdout",
     "output_type": "stream",
     "text": [
      "Epoch 1/5\n",
      "4/4 [==============================] - 20s 5s/step - loss: 0.6701 - accuracy: 0.5500 - val_loss: 0.7040 - val_accuracy: 0.4000\n",
      "Epoch 2/5\n",
      "4/4 [==============================] - 19s 5s/step - loss: 0.7320 - accuracy: 0.4600 - val_loss: 0.6888 - val_accuracy: 0.6000\n",
      "Epoch 3/5\n",
      "4/4 [==============================] - 19s 5s/step - loss: 0.6893 - accuracy: 0.5900 - val_loss: 0.6817 - val_accuracy: 0.6000\n",
      "Epoch 4/5\n",
      "4/4 [==============================] - 19s 5s/step - loss: 0.7436 - accuracy: 0.4900 - val_loss: 0.6775 - val_accuracy: 0.6000\n",
      "Epoch 5/5\n",
      "4/4 [==============================] - 20s 5s/step - loss: 0.7184 - accuracy: 0.5000 - val_loss: 0.6750 - val_accuracy: 0.6000\n"
     ]
    },
    {
     "data": {
      "text/plain": [
       "<keras.src.callbacks.History at 0x7f91c2383e50>"
      ]
     },
     "execution_count": 13,
     "metadata": {},
     "output_type": "execute_result"
    }
   ],
   "source": [
    "print(\"Resume Dropout RNN Accuracy Results:\")\n",
    "dropout_rnn_model.fit(resume_X_train, resume_y_train, epochs=5, batch_size=32, validation_data=(resume_X_test, resume_y_test))"
   ]
  }
 ],
 "metadata": {
  "kernelspec": {
   "display_name": "Python 3",
   "language": "python",
   "name": "python3"
  },
  "language_info": {
   "codemirror_mode": {
    "name": "ipython",
    "version": 3
   },
   "file_extension": ".py",
   "mimetype": "text/x-python",
   "name": "python",
   "nbconvert_exporter": "python",
   "pygments_lexer": "ipython3",
   "version": "3.8.10"
  }
 },
 "nbformat": 4,
 "nbformat_minor": 2
}
